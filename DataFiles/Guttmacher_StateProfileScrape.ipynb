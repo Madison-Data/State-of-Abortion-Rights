{
 "cells": [
  {
   "cell_type": "markdown",
   "id": "9d75817e",
   "metadata": {},
   "source": [
    "## Webscrape More Updated Data From Guttmacher's State Profiles"
   ]
  },
  {
   "cell_type": "code",
   "execution_count": null,
   "id": "a253f5b8",
   "metadata": {},
   "outputs": [],
   "source": [
    "# SCRAPING THE CONTENTS FROM https://states.guttmacher.org/policies/\n",
    "\n",
    "# DEPENDENCIES\n",
    "import requests\n",
    "import json\n",
    "import pandas as pd\n",
    "import numpy as np"
   ]
  },
  {
   "cell_type": "code",
   "execution_count": null,
   "id": "61ee874e",
   "metadata": {},
   "outputs": [],
   "source": [
    "url = \"https://states.guttmacher.org/policies/guttmacher.json\""
   ]
  },
  {
   "cell_type": "code",
   "execution_count": null,
   "id": "9c74444f",
   "metadata": {},
   "outputs": [],
   "source": [
    "response = requests.get(url).json()\n",
    "# print(json.dumps(response, indent=4, sort_keys=True))"
   ]
  },
  {
   "cell_type": "markdown",
   "id": "9fd58e36",
   "metadata": {},
   "source": [
    "### Pulling the data from Guttmacher's JSON source"
   ]
  },
  {
   "cell_type": "code",
   "execution_count": null,
   "id": "0f8e0cae",
   "metadata": {},
   "outputs": [],
   "source": [
    "all_abortion_df = pd.json_normalize(response)"
   ]
  },
  {
   "cell_type": "code",
   "execution_count": null,
   "id": "fd633175",
   "metadata": {},
   "outputs": [],
   "source": [
    "all_abortion_df.head()\n",
    "print(type(all_abortion_df))\n",
    "all_abortion_df.info()"
   ]
  },
  {
   "cell_type": "code",
   "execution_count": null,
   "id": "bd5bbbbd",
   "metadata": {},
   "outputs": [],
   "source": [
    "abortion_2020_data = all_abortion_df[[\"state\", \n",
    "                                      \"state_slug\", \n",
    "                                      \"policies_currently_in_effect\",\n",
    "                                      \"environment_type\", \n",
    "                                      \"residents_in_state_born_outside_us\", \n",
    "                                      \"income_level_below_fpl\", \n",
    "                                      \"abortions_obtained_in_2017\",\n",
    "                                      \"abortions_per_1000_women_aged_15_44_in_2017\",\n",
    "                                      \"clinics_provided_abortion_in_2017\", \n",
    "                                      \"counties_without_abortion_provider_in_2017\",\n",
    "                                      \"residents_in_counties_without_an_abortion_provider_in_2017\" ]]\n",
    "# abortion_2020_data.head()"
   ]
  },
  {
   "cell_type": "code",
   "execution_count": null,
   "id": "ee11305e",
   "metadata": {},
   "outputs": [],
   "source": [
    "# # Adjusting columns to display percentages as floats instead of whole numbers\n",
    "# abortion_2020_data.loc[:,\"residents_in_state_born_outside_us\"] *= 0.01\n",
    "# abortion_2020_data.loc[:,\"income_level_below_fpl\"] *= 0.01\n",
    "# abortion_2020_data.loc[:,\"residents_in_counties_without_an_abortion_provider_in_2017\"] *= 0.01"
   ]
  },
  {
   "cell_type": "code",
   "execution_count": null,
   "id": "79df0cd1",
   "metadata": {},
   "outputs": [],
   "source": [
    "# Changing number of abortions obtained from object to integer\n",
    "\n",
    "abortion_2020_data.loc[:,\"abortions_obtained_in_2017\"] = abortion_2020_data[\"abortions_obtained_in_2017\"].astype(str)\n",
    "\n",
    "comma = \",\"\n",
    "abortion_2020_data.loc[:,\"abortions_obtained_in_2017\"] = [each.replace(comma, \"\") for each in abortion_2020_data[\"abortions_obtained_in_2017\"]]\n",
    "abortion_2020_data.loc[:,\"abortions_obtained_in_2017\"] = abortion_2020_data[\"abortions_obtained_in_2017\"].astype(int)"
   ]
  },
  {
   "cell_type": "code",
   "execution_count": null,
   "id": "a4b7d439",
   "metadata": {},
   "outputs": [],
   "source": [
    "# abortion_2020_data.head()"
   ]
  },
  {
   "cell_type": "markdown",
   "id": "ff9b3c3c",
   "metadata": {},
   "source": [
    "### Cleaning Driving Distance Data"
   ]
  },
  {
   "cell_type": "code",
   "execution_count": null,
   "id": "3f5bc953",
   "metadata": {},
   "outputs": [],
   "source": [
    "# Field \"aowdd_15_49_after_14_weeks\" dropped for lack of data\n",
    "driving_distance = all_abortion_df[[\"state\",\n",
    "                                    \"aowdd_15_49_6_weeks\", \n",
    "                                    \"aowdd_15_49_12_weeks\",\n",
    "                                    \"aowdd_15_49_14_weeks\",\n",
    "                                    \"aowdd_15_49_20_weeks\",\n",
    "                                    \"aowdd_15_49_22_weeks\", \n",
    "                                    \"aowdd_15_49_24_weeks\",\n",
    "                                    \"aowdd_15_49_after_24_weeks\"]]\n",
    "# driving_distance.head()"
   ]
  },
  {
   "cell_type": "code",
   "execution_count": null,
   "id": "da8098bf",
   "metadata": {},
   "outputs": [],
   "source": [
    "# Driving distance is shown as a string in the dataset, e.g. \"\"Average one-way driving distance for women aged 15-49 in Arizona to the nearest clinic that performs abortions up to 20 weeks = 11 miles\"\n",
    "# New columns are created below to pull the number of average miles from each field\n",
    "driving_distance.loc[:,\"week_6\"] = driving_distance.aowdd_15_49_6_weeks.str.split(\"\\s+\").str[-2]\n",
    "driving_distance.loc[:,\"week_12\"] = driving_distance.aowdd_15_49_12_weeks.str.split(\"\\s+\").str[-2]\n",
    "driving_distance.loc[:,\"week_14\"] = driving_distance.aowdd_15_49_14_weeks.str.split(\"\\s+\").str[-2]\n",
    "driving_distance.loc[:,\"week_20\"] = driving_distance.aowdd_15_49_20_weeks.str.split(\"\\s+\").str[-2]\n",
    "driving_distance.loc[:,\"week_22\"] = driving_distance.aowdd_15_49_22_weeks.str.split(\"\\s+\").str[-2]\n",
    "driving_distance.loc[:,\"week_24\"] = driving_distance.aowdd_15_49_24_weeks.str.split(\"\\s+\").str[-2]\n",
    "driving_distance.loc[:,\"week_24_plus\"] = driving_distance.aowdd_15_49_after_24_weeks.str.split(\"\\s+\").str[-2]\n",
    "\n",
    "# driving_distance.head()"
   ]
  },
  {
   "cell_type": "code",
   "execution_count": null,
   "id": "4a84cfa7",
   "metadata": {},
   "outputs": [],
   "source": [
    "# driving_distance.info()"
   ]
  },
  {
   "cell_type": "code",
   "execution_count": null,
   "id": "286e20d4",
   "metadata": {},
   "outputs": [],
   "source": [
    "# Shows the average one-way driving distance for a woman to obtain an abortion at the given week threshold\n",
    "driving_distance = driving_distance[[\"state\", \"week_6\", \"week_12\", \"week_14\", \"week_20\", \"week_22\", \"week_24\", \"week_24_plus\"]]\n",
    "driving_distance[\"week_24_plus\"] = driving_distance[\"week_24_plus\"].str.replace(\"in\", \"0\")\n",
    "# driving_distance.info()"
   ]
  },
  {
   "cell_type": "code",
   "execution_count": null,
   "id": "5bf47406",
   "metadata": {},
   "outputs": [],
   "source": [
    "driving_distance2 = driving_distance.astype({\"week_6\": float, \"week_12\": float, \"week_14\": float, \"week_20\": float,\"week_22\": float, \"week_24\": float, \"week_24_plus\": float})\n",
    "# driving_distance2"
   ]
  },
  {
   "cell_type": "code",
   "execution_count": null,
   "id": "850cebca",
   "metadata": {},
   "outputs": [],
   "source": [
    "driving_distance3 = driving_distance2.melt(id_vars=[\"state\"], var_name=\"week_threshold\", value_name=\"avg_oneway_miles\").sort_values([\"state\"])\n",
    "# driving_distance3.head()"
   ]
  },
  {
   "cell_type": "markdown",
   "id": "29d48620",
   "metadata": {},
   "source": [
    "### Cleaning Race/Ethnicity Data"
   ]
  },
  {
   "cell_type": "code",
   "execution_count": null,
   "id": "abebae16",
   "metadata": {},
   "outputs": [],
   "source": [
    "wora_ethnicities = all_abortion_df[[\"state\",\"wora_in_state_15_49_breakdown\"]]\n",
    "# wora_ethnicities.head()"
   ]
  },
  {
   "cell_type": "code",
   "execution_count": null,
   "id": "55014cf1",
   "metadata": {},
   "outputs": [],
   "source": [
    "wora_ethnicities2 = wora_ethnicities.wora_in_state_15_49_breakdown.str.split(\" \", expand = True)\n",
    "wora_ethnicities2 = wora_ethnicities2[[1,4,7,10,13]]\n",
    "# wora_ethnicities2.head()"
   ]
  },
  {
   "cell_type": "code",
   "execution_count": null,
   "id": "fae34f06",
   "metadata": {},
   "outputs": [],
   "source": [
    "wora_ethnicities3 = pd.merge(wora_ethnicities, wora_ethnicities2, left_index=True, right_index=True)\n",
    "wora_ethnicities3.rename(columns={\"wora_in_state_15_49_breakdown\":\"original_string\", 1:\"Hispanic\", 4:\"White\", 7:\"Black\", 10:\"Asian\", 13:\"Other\"}, inplace=True)\n",
    "# wora_ethnicities3.info()"
   ]
  },
  {
   "cell_type": "code",
   "execution_count": null,
   "id": "a37ee874",
   "metadata": {},
   "outputs": [],
   "source": [
    "char = \"%\"\n",
    "wora_ethnicities3[\"Hispanic\"] = ([each.replace(char, \"\") for each in wora_ethnicities3[\"Hispanic\"]])\n",
    "wora_ethnicities3[\"White\"] = ([each.replace(char, \"\") for each in wora_ethnicities3[\"White\"]])\n",
    "wora_ethnicities3[\"Black\"] = ([each.replace(char, \"\") for each in wora_ethnicities3[\"Black\"]])\n",
    "wora_ethnicities3[\"Asian\"] = ([each.replace(char, \"\") for each in wora_ethnicities3[\"Asian\"]])\n",
    "wora_ethnicities3[\"Other\"] = ([each.replace(char, \"\") for each in wora_ethnicities3[\"Other\"]])\n",
    "# wora_ethnicities3.info()"
   ]
  },
  {
   "cell_type": "code",
   "execution_count": null,
   "id": "3aa58c1b",
   "metadata": {},
   "outputs": [],
   "source": [
    "wora_ethnicities4 = wora_ethnicities3.astype({\"Hispanic\": float, \"White\": float, \"Black\": float, \"Asian\": float,\"Other\": float})"
   ]
  },
  {
   "cell_type": "code",
   "execution_count": null,
   "id": "b642d60d",
   "metadata": {},
   "outputs": [],
   "source": [
    "wora_ethnicities4 = wora_ethnicities4[[\"Hispanic\", \"White\", \"Black\", \"Asian\", \"Other\"]]"
   ]
  },
  {
   "cell_type": "code",
   "execution_count": null,
   "id": "22c3be94",
   "metadata": {},
   "outputs": [],
   "source": [
    "wora_ethnicities5 = pd.merge(wora_ethnicities3, wora_ethnicities4, left_index = True, right_index = True)\n",
    "wora_ethnicities5 = wora_ethnicities5[[\"state\", \"Hispanic_y\", \"White_y\", \"Black_y\",\"Asian_y\", \"Other_y\"]]\n",
    "wora_ethnicities5 = wora_ethnicities5.rename(columns={\"Hispanic_y\":\"Hispanic\", \"White_y\":\"White\", \"Black_y\":\"Black\", \"Asian_y\":\"Asian\", \"Other_y\":\"Other\"})\n",
    "# wora_ethnicities5.info()"
   ]
  },
  {
   "cell_type": "code",
   "execution_count": null,
   "id": "95d83cc5",
   "metadata": {},
   "outputs": [],
   "source": [
    "wora_ethnicities6 = wora_ethnicities5.melt(id_vars=[\"state\"], var_name=\"Race/Ethnicity\", value_name=\"Portion of WORA\").sort_values([\"state\"])\n",
    "wora_ethnicities6 = pd.DataFrame(wora_ethnicities6)\n",
    "# wora_ethnicities6.head()"
   ]
  },
  {
   "cell_type": "markdown",
   "id": "0674baa9",
   "metadata": {},
   "source": [
    "### Cleaning Age Breakdown"
   ]
  },
  {
   "cell_type": "code",
   "execution_count": null,
   "id": "79e30d74",
   "metadata": {},
   "outputs": [],
   "source": [
    "ages = all_abortion_df[[\"state\",\"wora_age_breakdown\"]]\n",
    "# print(ages)"
   ]
  },
  {
   "cell_type": "code",
   "execution_count": null,
   "id": "1d4d0e25",
   "metadata": {},
   "outputs": [],
   "source": [
    "ages_2 = ages.wora_age_breakdown.str.split(\" \", expand = True)\n",
    "ages_2 = ages_2[[1,5,9,13,17, 21]]\n",
    "# ages_2.head()"
   ]
  },
  {
   "cell_type": "code",
   "execution_count": null,
   "id": "06c5ad6e",
   "metadata": {},
   "outputs": [],
   "source": [
    "ages_3 = pd.merge(ages, ages_2, left_index=True, right_index=True)\n",
    "ages_3.rename(columns={\"wora_age_breakdown\":\"original_string\", 1:\"15-17 Years\", 5:\"18-19 Years\", 9:\"20-24 Years\", 13:\"25-29 Years\", 17:\"30-39 Years\", 21:\"40-49 Years\"}, inplace=True)\n",
    "# ages_3.head()"
   ]
  },
  {
   "cell_type": "code",
   "execution_count": null,
   "id": "4cf386dc",
   "metadata": {},
   "outputs": [],
   "source": [
    "char = \"%\"\n",
    "ages_3[\"15-17 Years\"] = ([each.replace(char, \"\") for each in ages_3[\"15-17 Years\"]])\n",
    "ages_3[\"18-19 Years\"] = ([each.replace(char, \"\") for each in ages_3[\"18-19 Years\"]])\n",
    "ages_3[\"20-24 Years\"] = ([each.replace(char, \"\") for each in ages_3[\"20-24 Years\"]])\n",
    "ages_3[\"25-29 Years\"] = ([each.replace(char, \"\") for each in ages_3[\"25-29 Years\"]])\n",
    "ages_3[\"30-39 Years\"] = ([each.replace(char, \"\") for each in ages_3[\"30-39 Years\"]])\n",
    "ages_3[\"40-49 Years\"] = ([each.replace(char, \"\") for each in ages_3[\"40-49 Years\"]])\n"
   ]
  },
  {
   "cell_type": "code",
   "execution_count": null,
   "id": "f55f882f",
   "metadata": {},
   "outputs": [],
   "source": [
    "ages_4 = ages_3.astype({\"15-17 Years\": float, \n",
    "                        \"18-19 Years\": float,\n",
    "                        \"20-24 Years\": float,  \n",
    "                        \"25-29 Years\": float, \n",
    "                        \"30-39 Years\": float,\n",
    "                        \"40-49 Years\": float})"
   ]
  },
  {
   "cell_type": "code",
   "execution_count": null,
   "id": "d722e0f8",
   "metadata": {},
   "outputs": [],
   "source": [
    "ages_4 = ages_4[[\"15-17 Years\", \"18-19 Years\",\"20-24 Years\",  \"25-29 Years\",\"30-39 Years\",\"40-49 Years\"]]"
   ]
  },
  {
   "cell_type": "code",
   "execution_count": null,
   "id": "513003e7",
   "metadata": {},
   "outputs": [],
   "source": [
    "ages_5 = pd.merge(ages, ages_4, left_index = True, right_index = True)\n",
    "ages_5 = ages_5[[\"state\", \"15-17 Years\", \"18-19 Years\", \"20-24 Years\", \"25-29 Years\", \"30-39 Years\", \"40-49 Years\"]]"
   ]
  },
  {
   "cell_type": "code",
   "execution_count": null,
   "id": "4e6054b5",
   "metadata": {},
   "outputs": [],
   "source": [
    "ages_6 = ages_5.melt(id_vars=[\"state\"], var_name=\"Age Group\", value_name=\"Portion of WORA\").sort_values([\"state\"])\n",
    "# ages_6.head(15)\n",
    "ages_6 = pd.DataFrame(ages_6)\n",
    "ages_6.head()"
   ]
  },
  {
   "cell_type": "markdown",
   "id": "ddfd907c",
   "metadata": {},
   "source": [
    "### Cleaning the number of women of reproductive age (WORA) in the state from object to integer"
   ]
  },
  {
   "cell_type": "code",
   "execution_count": null,
   "id": "06b17ddd",
   "metadata": {},
   "outputs": [],
   "source": [
    "wora_in_state = all_abortion_df[[\"state\", \"wora_in_state_15_49\"]]\n",
    "# wora_in_state.head(20)"
   ]
  },
  {
   "cell_type": "code",
   "execution_count": null,
   "id": "b97d8f7a",
   "metadata": {},
   "outputs": [],
   "source": [
    "# Changing the number of women of reproductive age from object to integer\n",
    "\n",
    "# split \"million\" from the cell by splitting on space\n",
    "appx_wora = wora_in_state.wora_in_state_15_49.str.split(expand = True)\n",
    "\n",
    "# remove the non-digits from the first column in order to change the values to an integer\n",
    "point = \".\"\n",
    "appx_wora[0] = ([each.replace(comma, \"\") for each in appx_wora[0]])\n",
    "appx_wora[0] = ([each.replace(point, \"\") for each in appx_wora[0]])\n",
    "appx_wora[0] = appx_wora[0].astype(int)\n",
    "\n",
    "# multiply the values that had been labeled \"million\" by 100,000 (removing the decimal earlier changed the scale of the number from a million to 100,000)\n",
    "appx_wora.loc[appx_wora[1]==\"million\", \"number\"] = appx_wora[0]*100000\n",
    "appx_wora[\"final_number\"] = appx_wora[\"number\"].fillna(appx_wora[0])\n",
    "\n",
    "# merge this cleaned data back to the wora_in_state dataframe\n",
    "wora_in_state_2 = pd.merge(wora_in_state, appx_wora[\"final_number\"], left_index = True, right_index=True)\n"
   ]
  },
  {
   "cell_type": "code",
   "execution_count": null,
   "id": "a0cea8ca",
   "metadata": {},
   "outputs": [],
   "source": [
    "# Combine dataframes wora_in_state_2, wora_ethnicities5, ages_5, driving_distance2 onto abortion_2020_data\n",
    "\n",
    "abortion_data_1 = pd.merge(abortion_2020_data, wora_in_state_2, left_index=True, right_index=True)\n",
    "abortion_data_2 = pd.merge(abortion_data_1,wora_ethnicities5, left_index=True, right_index=True)\n",
    "abortion_data_3 = pd.merge(abortion_data_2,ages_5, left_index=True, right_index=True)\n",
    "abortion_data = pd.merge(abortion_data_3,driving_distance2, left_index=True, right_index=True)\n",
    "\n",
    "abortion_data.info()"
   ]
  },
  {
   "cell_type": "code",
   "execution_count": null,
   "id": "ea05cf30",
   "metadata": {
    "scrolled": true
   },
   "outputs": [],
   "source": [
    "# NOTE: the field names from the webscrape were not updated to reflect the year of data they actually display\n",
    "# Confirmed from Guttmacher data available for download here: \n",
    "    # https://www.poynter.org/reporting-editing/2022/the-us-saw-930160-abortions-in-2020-reversing-a-30-year-decline/\n",
    "# It includes both 2017 and 2020 values for the number of abortions and rate per 1000 women\n",
    "# Unless stated otherwise, assume data is from 2017\n",
    "\n",
    "abortion_data = abortion_data.rename(columns={\"state\": \"State\", \n",
    "                                              \"state_slug\":\"State URL Slug\", \n",
    "                                              \"environment_type\":\"Restrictive Category\",\n",
    "                                              \"policies_currently_in_effect\": \"Current Policies\",\n",
    "                                              \"residents_in_state_born_outside_us\":\"% WORA Residents Non-US\", \n",
    "                                              \"income_level_below_fpl\": \"% WORA Below FPL\",\n",
    "                                              \"abortions_obtained_in_2017\":\"Abortions Obtained in 2020\", \n",
    "                                              \"abortions_per_1000_women_aged_15_44_in_2017\": \"Abortions per 1,000 WORA in 2020\", \n",
    "                                              \"clinics_provided_abortion_in_2017\": \"Abortion Clinics\", \n",
    "                                              \"counties_without_abortion_provider_in_2017\":\"Counties w/o Abortion Providers\", \n",
    "                                              \"residents_in_counties_without_an_abortion_provider_in_2017\":\"% WORA w/o County Abortion Provider\", \n",
    "                                              \"final_number\": \"Appx. Number of WORA\", \n",
    "                                              \"Hispanic\":\"% WORA: Hispanic\", \n",
    "                                              \"Black\":\"% WORA: Black\", \n",
    "                                              \"White\":\"% WORA: White\", \n",
    "                                              \"Asian\":\"% WORA: Asian\", \\\n",
    "                                              \"Other\":\"% WORA: Other\", \n",
    "                                              \"15-17 Years\": \"% WORA: 15-17 Years\",\n",
    "                                              \"18-19 Years\": \"% WORA: 18-19 Years\", \n",
    "                                              \"20-24 Years\": \"% WORA: 20-24 Years\", \n",
    "                                              \"25-29 Years\": \"% WORA: 25-29 Years\",\n",
    "                                              \"30-39 Years\": \"% WORA: 30-39 Years\",\n",
    "                                              \"40-49 Years\": \"% WORA: 40-49 Years\", \n",
    "                                              \"week_6\":\"Avg. Distance (mi): 6 Weeks\", \n",
    "                                              \"week_12\":\"Avg. Distance (mi): 12 Weeks\", \n",
    "                                              \"week_14\":\"Avg. Distance (mi): 14 Weeks\", \n",
    "                                              \"week_20\":\"Avg. Distance (mi): 20 Weeks\", \n",
    "                                              \"week_22\":\"Avg. Distance (mi): 22 Weeks\", \n",
    "                                              \"week_24\":\"Avg. Distance (mi): 24 Weeks\", \n",
    "                                              \"week_24_plus\":\"Avg. Distance (mi): 24+ Weeks\"})\n"
   ]
  },
  {
   "cell_type": "code",
   "execution_count": null,
   "id": "a6368614",
   "metadata": {},
   "outputs": [],
   "source": [
    "abortion_data2 = abortion_data[[\"State\",\"State URL Slug\",\"Restrictive Category\",\"Current Policies\",\"Abortions Obtained in 2020\", \n",
    "                               \"Abortions per 1,000 WORA in 2020\",\"Appx. Number of WORA\", \"Abortion Clinics\",\"Counties w/o Abortion Providers\",\n",
    "                               \"% WORA w/o County Abortion Provider\", \"% WORA Residents Non-US\",\"% WORA Below FPL\",\n",
    "                               \"% WORA: Hispanic\",\"% WORA: Black\",\"% WORA: White\",\"% WORA: Asian\",\"% WORA: Other\", \n",
    "                               \"% WORA: 15-17 Years\", \"% WORA: 18-19 Years\", \"% WORA: 20-24 Years\", \n",
    "                               \"% WORA: 25-29 Years\",\"% WORA: 30-39 Years\", \"% WORA: 40-49 Years\",\n",
    "                               \"Avg. Distance (mi): 6 Weeks\", \"Avg. Distance (mi): 12 Weeks\", \"Avg. Distance (mi): 14 Weeks\", \n",
    "                               \"Avg. Distance (mi): 20 Weeks\", \"Avg. Distance (mi): 22 Weeks\",\"Avg. Distance (mi): 24 Weeks\",\"Avg. Distance (mi): 24+ Weeks\"]]\n"
   ]
  },
  {
   "cell_type": "code",
   "execution_count": null,
   "id": "0aa8459d",
   "metadata": {},
   "outputs": [],
   "source": [
    "abortion_data2.info()"
   ]
  },
  {
   "cell_type": "code",
   "execution_count": null,
   "id": "a207cd17",
   "metadata": {},
   "outputs": [],
   "source": [
    "abortion_data_cleaned = abortion_data2\n",
    "abortion_data_cleaned"
   ]
  },
  {
   "cell_type": "code",
   "execution_count": null,
   "id": "de43a7b3",
   "metadata": {},
   "outputs": [],
   "source": [
    "ages_6.to_csv(\"WORA_ages_unpivoted.csv\")\n",
    "wora_ethnicities6.to_csv(\"WORA_ethnicity_unpivoted.csv\")\n",
    "driving_distance3.to_csv(\"Avg_Drive_Distance.csv\")\n",
    "abortion_data_cleaned.to_csv(\"Guttmacher_Webscrape.csv\")\n"
   ]
  },
  {
   "cell_type": "code",
   "execution_count": null,
   "id": "ebd37265",
   "metadata": {},
   "outputs": [],
   "source": []
  }
 ],
 "metadata": {
  "kernelspec": {
   "display_name": "Python 3 (ipykernel)",
   "language": "python",
   "name": "python3"
  },
  "language_info": {
   "codemirror_mode": {
    "name": "ipython",
    "version": 3
   },
   "file_extension": ".py",
   "mimetype": "text/x-python",
   "name": "python",
   "nbconvert_exporter": "python",
   "pygments_lexer": "ipython3",
   "version": "3.9.7"
  }
 },
 "nbformat": 4,
 "nbformat_minor": 5
}
